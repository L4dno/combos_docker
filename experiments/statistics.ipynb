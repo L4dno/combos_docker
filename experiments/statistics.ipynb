{
 "cells": [
  {
   "cell_type": "code",
   "execution_count": null,
   "id": "f0aa96f7",
   "metadata": {},
   "outputs": [],
   "source": [
    "# copy script and params.xml to experiments\n",
    "# find important params\n",
    "# copy to params.xml\n",
    "# add new tags for path to output files if needed\n",
    "# run container\n",
    "# copy all files to cur dir\n",
    "# analize"
   ]
  }
 ],
 "metadata": {
  "language_info": {
   "name": "python"
  }
 },
 "nbformat": 4,
 "nbformat_minor": 5
}
